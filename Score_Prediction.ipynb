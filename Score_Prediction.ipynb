{
  "nbformat": 4,
  "nbformat_minor": 0,
  "metadata": {
    "colab": {
      "name": "Untitled0.ipynb",
      "provenance": [],
      "authorship_tag": "ABX9TyMxUCLiUau6uh4ZHhSQN7Nb",
      "include_colab_link": true
    },
    "kernelspec": {
      "name": "python3",
      "display_name": "Python 3"
    },
    "language_info": {
      "name": "python"
    }
  },
  "cells": [
    {
      "cell_type": "markdown",
      "metadata": {
        "id": "view-in-github",
        "colab_type": "text"
      },
      "source": [
        "<a href=\"https://colab.research.google.com/github/tuankiet110301/CS114.L22.KHCL/blob/main/Score_Prediction.ipynb\" target=\"_parent\"><img src=\"https://colab.research.google.com/assets/colab-badge.svg\" alt=\"Open In Colab\"/></a>"
      ]
    },
    {
      "cell_type": "code",
      "metadata": {
        "id": "50_Jx5sOyHD7"
      },
      "source": [
        "import numpy as np\n",
        "import pandas as pd\n",
        "from sklearn.linear_model import LinearRegression\n",
        "from sklearn.preprocessing import StandardScaler\n",
        "from sklearn.metrics import mean_squared_error\n",
        "from sklearn.model_selection import train_test_split\n"
      ],
      "execution_count": 166,
      "outputs": []
    },
    {
      "cell_type": "markdown",
      "metadata": {
        "id": "ZIDdZReunwl8"
      },
      "source": [
        "# **Trích xuất dữ liệu và tiền xử lý**"
      ]
    },
    {
      "cell_type": "code",
      "metadata": {
        "colab": {
          "base_uri": "https://localhost:8080/"
        },
        "id": "w3X_Pioezywj",
        "outputId": "66e89835-8376-486f-d9a7-cf31b16077d1"
      },
      "source": [
        "from google.colab import drive\n",
        "drive.mount('/content/drive')\n",
        "\n",
        "wecode = pd.read_csv(\"/content/drive/MyDrive/wecode.csv\")\n",
        "score = pd.read_csv(\"/content/drive/MyDrive/score_training.csv\", encoding= 'unicode_escape')\n",
        "\n",
        "wecode = wecode.apply(pd.to_numeric, errors='coerce')"
      ],
      "execution_count": 167,
      "outputs": [
        {
          "output_type": "stream",
          "text": [
            "Drive already mounted at /content/drive; to attempt to forcibly remount, call drive.mount(\"/content/drive\", force_remount=True).\n"
          ],
          "name": "stdout"
        }
      ]
    },
    {
      "cell_type": "code",
      "metadata": {
        "colab": {
          "base_uri": "https://localhost:8080/"
        },
        "id": "B3aC69z9zzji",
        "outputId": "74c23cee-cc37-4194-c7d7-8933271380ea"
      },
      "source": [
        "wecode.info()\n"
      ],
      "execution_count": 168,
      "outputs": [
        {
          "output_type": "stream",
          "text": [
            "<class 'pandas.core.frame.DataFrame'>\n",
            "RangeIndex: 264606 entries, 0 to 264605\n",
            "Data columns (total 12 columns):\n",
            " #   Column         Non-Null Count   Dtype  \n",
            "---  ------         --------------   -----  \n",
            " 0   id             264606 non-null  int64  \n",
            " 1   assignment_id  264606 non-null  int64  \n",
            " 2   problem_id     264606 non-null  int64  \n",
            " 3   user_id        264606 non-null  int64  \n",
            " 4   is_final       264606 non-null  int64  \n",
            " 5   status         0 non-null       float64\n",
            " 6   pre_score      264606 non-null  int64  \n",
            " 7   coefficient    264354 non-null  float64\n",
            " 8   file_name      0 non-null       float64\n",
            " 9   language_id    264606 non-null  int64  \n",
            " 10  created_at     0 non-null       float64\n",
            " 11  updated_at     0 non-null       float64\n",
            "dtypes: float64(5), int64(7)\n",
            "memory usage: 24.2 MB\n"
          ],
          "name": "stdout"
        }
      ]
    },
    {
      "cell_type": "code",
      "metadata": {
        "id": "TC3XwBJJPYiM",
        "colab": {
          "base_uri": "https://localhost:8080/",
          "height": 419
        },
        "outputId": "7017e9e9-2f9d-4cec-fab2-edf6685a71e1"
      },
      "source": [
        "wecode"
      ],
      "execution_count": 169,
      "outputs": [
        {
          "output_type": "execute_result",
          "data": {
            "text/html": [
              "<div>\n",
              "<style scoped>\n",
              "    .dataframe tbody tr th:only-of-type {\n",
              "        vertical-align: middle;\n",
              "    }\n",
              "\n",
              "    .dataframe tbody tr th {\n",
              "        vertical-align: top;\n",
              "    }\n",
              "\n",
              "    .dataframe thead th {\n",
              "        text-align: right;\n",
              "    }\n",
              "</style>\n",
              "<table border=\"1\" class=\"dataframe\">\n",
              "  <thead>\n",
              "    <tr style=\"text-align: right;\">\n",
              "      <th></th>\n",
              "      <th>id</th>\n",
              "      <th>assignment_id</th>\n",
              "      <th>problem_id</th>\n",
              "      <th>user_id</th>\n",
              "      <th>is_final</th>\n",
              "      <th>status</th>\n",
              "      <th>pre_score</th>\n",
              "      <th>coefficient</th>\n",
              "      <th>file_name</th>\n",
              "      <th>language_id</th>\n",
              "      <th>created_at</th>\n",
              "      <th>updated_at</th>\n",
              "    </tr>\n",
              "  </thead>\n",
              "  <tbody>\n",
              "    <tr>\n",
              "      <th>0</th>\n",
              "      <td>4</td>\n",
              "      <td>0</td>\n",
              "      <td>3</td>\n",
              "      <td>4</td>\n",
              "      <td>1</td>\n",
              "      <td>NaN</td>\n",
              "      <td>10000</td>\n",
              "      <td>100.0</td>\n",
              "      <td>NaN</td>\n",
              "      <td>2</td>\n",
              "      <td>NaN</td>\n",
              "      <td>NaN</td>\n",
              "    </tr>\n",
              "    <tr>\n",
              "      <th>1</th>\n",
              "      <td>5</td>\n",
              "      <td>0</td>\n",
              "      <td>4</td>\n",
              "      <td>4</td>\n",
              "      <td>1</td>\n",
              "      <td>NaN</td>\n",
              "      <td>10000</td>\n",
              "      <td>100.0</td>\n",
              "      <td>NaN</td>\n",
              "      <td>2</td>\n",
              "      <td>NaN</td>\n",
              "      <td>NaN</td>\n",
              "    </tr>\n",
              "    <tr>\n",
              "      <th>2</th>\n",
              "      <td>6</td>\n",
              "      <td>0</td>\n",
              "      <td>5</td>\n",
              "      <td>4</td>\n",
              "      <td>0</td>\n",
              "      <td>NaN</td>\n",
              "      <td>0</td>\n",
              "      <td>100.0</td>\n",
              "      <td>NaN</td>\n",
              "      <td>2</td>\n",
              "      <td>NaN</td>\n",
              "      <td>NaN</td>\n",
              "    </tr>\n",
              "    <tr>\n",
              "      <th>3</th>\n",
              "      <td>7</td>\n",
              "      <td>0</td>\n",
              "      <td>5</td>\n",
              "      <td>4</td>\n",
              "      <td>0</td>\n",
              "      <td>NaN</td>\n",
              "      <td>0</td>\n",
              "      <td>100.0</td>\n",
              "      <td>NaN</td>\n",
              "      <td>2</td>\n",
              "      <td>NaN</td>\n",
              "      <td>NaN</td>\n",
              "    </tr>\n",
              "    <tr>\n",
              "      <th>4</th>\n",
              "      <td>8</td>\n",
              "      <td>0</td>\n",
              "      <td>5</td>\n",
              "      <td>4</td>\n",
              "      <td>0</td>\n",
              "      <td>NaN</td>\n",
              "      <td>0</td>\n",
              "      <td>100.0</td>\n",
              "      <td>NaN</td>\n",
              "      <td>2</td>\n",
              "      <td>NaN</td>\n",
              "      <td>NaN</td>\n",
              "    </tr>\n",
              "    <tr>\n",
              "      <th>...</th>\n",
              "      <td>...</td>\n",
              "      <td>...</td>\n",
              "      <td>...</td>\n",
              "      <td>...</td>\n",
              "      <td>...</td>\n",
              "      <td>...</td>\n",
              "      <td>...</td>\n",
              "      <td>...</td>\n",
              "      <td>...</td>\n",
              "      <td>...</td>\n",
              "      <td>...</td>\n",
              "      <td>...</td>\n",
              "    </tr>\n",
              "    <tr>\n",
              "      <th>264601</th>\n",
              "      <td>266667</td>\n",
              "      <td>0</td>\n",
              "      <td>25</td>\n",
              "      <td>1796</td>\n",
              "      <td>0</td>\n",
              "      <td>NaN</td>\n",
              "      <td>0</td>\n",
              "      <td>100.0</td>\n",
              "      <td>NaN</td>\n",
              "      <td>4</td>\n",
              "      <td>NaN</td>\n",
              "      <td>NaN</td>\n",
              "    </tr>\n",
              "    <tr>\n",
              "      <th>264602</th>\n",
              "      <td>266668</td>\n",
              "      <td>0</td>\n",
              "      <td>25</td>\n",
              "      <td>1796</td>\n",
              "      <td>0</td>\n",
              "      <td>NaN</td>\n",
              "      <td>0</td>\n",
              "      <td>100.0</td>\n",
              "      <td>NaN</td>\n",
              "      <td>2</td>\n",
              "      <td>NaN</td>\n",
              "      <td>NaN</td>\n",
              "    </tr>\n",
              "    <tr>\n",
              "      <th>264603</th>\n",
              "      <td>266669</td>\n",
              "      <td>0</td>\n",
              "      <td>25</td>\n",
              "      <td>1796</td>\n",
              "      <td>1</td>\n",
              "      <td>NaN</td>\n",
              "      <td>10000</td>\n",
              "      <td>100.0</td>\n",
              "      <td>NaN</td>\n",
              "      <td>4</td>\n",
              "      <td>NaN</td>\n",
              "      <td>NaN</td>\n",
              "    </tr>\n",
              "    <tr>\n",
              "      <th>264604</th>\n",
              "      <td>266670</td>\n",
              "      <td>0</td>\n",
              "      <td>150</td>\n",
              "      <td>255</td>\n",
              "      <td>1</td>\n",
              "      <td>NaN</td>\n",
              "      <td>6250</td>\n",
              "      <td>100.0</td>\n",
              "      <td>NaN</td>\n",
              "      <td>2</td>\n",
              "      <td>NaN</td>\n",
              "      <td>NaN</td>\n",
              "    </tr>\n",
              "    <tr>\n",
              "      <th>264605</th>\n",
              "      <td>266671</td>\n",
              "      <td>21</td>\n",
              "      <td>24</td>\n",
              "      <td>1568</td>\n",
              "      <td>0</td>\n",
              "      <td>NaN</td>\n",
              "      <td>10000</td>\n",
              "      <td>100.0</td>\n",
              "      <td>NaN</td>\n",
              "      <td>4</td>\n",
              "      <td>NaN</td>\n",
              "      <td>NaN</td>\n",
              "    </tr>\n",
              "  </tbody>\n",
              "</table>\n",
              "<p>264606 rows × 12 columns</p>\n",
              "</div>"
            ],
            "text/plain": [
              "            id  assignment_id  problem_id  ...  language_id  created_at  updated_at\n",
              "0            4              0           3  ...            2         NaN         NaN\n",
              "1            5              0           4  ...            2         NaN         NaN\n",
              "2            6              0           5  ...            2         NaN         NaN\n",
              "3            7              0           5  ...            2         NaN         NaN\n",
              "4            8              0           5  ...            2         NaN         NaN\n",
              "...        ...            ...         ...  ...          ...         ...         ...\n",
              "264601  266667              0          25  ...            4         NaN         NaN\n",
              "264602  266668              0          25  ...            2         NaN         NaN\n",
              "264603  266669              0          25  ...            4         NaN         NaN\n",
              "264604  266670              0         150  ...            2         NaN         NaN\n",
              "264605  266671             21          24  ...            4         NaN         NaN\n",
              "\n",
              "[264606 rows x 12 columns]"
            ]
          },
          "metadata": {
            "tags": []
          },
          "execution_count": 169
        }
      ]
    },
    {
      "cell_type": "code",
      "metadata": {
        "colab": {
          "base_uri": "https://localhost:8080/"
        },
        "id": "ZOXIXCytSCFS",
        "outputId": "adb018a9-d577-4b92-88f5-c23691203f92"
      },
      "source": [
        "score.info()"
      ],
      "execution_count": 170,
      "outputs": [
        {
          "output_type": "stream",
          "text": [
            "<class 'pandas.core.frame.DataFrame'>\n",
            "RangeIndex: 975 entries, 0 to 974\n",
            "Data columns (total 7 columns):\n",
            " #   Column  Non-Null Count  Dtype \n",
            "---  ------  --------------  ----- \n",
            " 0   id      975 non-null    int64 \n",
            " 1   QT      973 non-null    object\n",
            " 2   GK      974 non-null    object\n",
            " 3   TH      974 non-null    object\n",
            " 4   CK      974 non-null    object\n",
            " 5   TBM     974 non-null    object\n",
            " 6   TBTL    974 non-null    object\n",
            "dtypes: int64(1), object(6)\n",
            "memory usage: 53.4+ KB\n"
          ],
          "name": "stdout"
        }
      ]
    },
    {
      "cell_type": "code",
      "metadata": {
        "id": "PY6Ou0mmSDzm",
        "colab": {
          "base_uri": "https://localhost:8080/",
          "height": 419
        },
        "outputId": "b24a2887-edfb-45bf-b5a6-c343e5c52823"
      },
      "source": [
        "score\n"
      ],
      "execution_count": 171,
      "outputs": [
        {
          "output_type": "execute_result",
          "data": {
            "text/html": [
              "<div>\n",
              "<style scoped>\n",
              "    .dataframe tbody tr th:only-of-type {\n",
              "        vertical-align: middle;\n",
              "    }\n",
              "\n",
              "    .dataframe tbody tr th {\n",
              "        vertical-align: top;\n",
              "    }\n",
              "\n",
              "    .dataframe thead th {\n",
              "        text-align: right;\n",
              "    }\n",
              "</style>\n",
              "<table border=\"1\" class=\"dataframe\">\n",
              "  <thead>\n",
              "    <tr style=\"text-align: right;\">\n",
              "      <th></th>\n",
              "      <th>id</th>\n",
              "      <th>QT</th>\n",
              "      <th>GK</th>\n",
              "      <th>TH</th>\n",
              "      <th>CK</th>\n",
              "      <th>TBM</th>\n",
              "      <th>TBTL</th>\n",
              "    </tr>\n",
              "  </thead>\n",
              "  <tbody>\n",
              "    <tr>\n",
              "      <th>0</th>\n",
              "      <td>22</td>\n",
              "      <td>10</td>\n",
              "      <td>9</td>\n",
              "      <td>8.5</td>\n",
              "      <td>8.5</td>\n",
              "      <td>8.8</td>\n",
              "      <td>8.52</td>\n",
              "    </tr>\n",
              "    <tr>\n",
              "      <th>1</th>\n",
              "      <td>24</td>\n",
              "      <td>10</td>\n",
              "      <td>8</td>\n",
              "      <td>10</td>\n",
              "      <td>9.5</td>\n",
              "      <td>9.4</td>\n",
              "      <td>8.41</td>\n",
              "    </tr>\n",
              "    <tr>\n",
              "      <th>2</th>\n",
              "      <td>27</td>\n",
              "      <td>10</td>\n",
              "      <td>10</td>\n",
              "      <td>10</td>\n",
              "      <td>10</td>\n",
              "      <td>10</td>\n",
              "      <td>8.67</td>\n",
              "    </tr>\n",
              "    <tr>\n",
              "      <th>3</th>\n",
              "      <td>28</td>\n",
              "      <td>10</td>\n",
              "      <td>9.5</td>\n",
              "      <td>7.5</td>\n",
              "      <td>9.5</td>\n",
              "      <td>9.2</td>\n",
              "      <td>7.39</td>\n",
              "    </tr>\n",
              "    <tr>\n",
              "      <th>4</th>\n",
              "      <td>29</td>\n",
              "      <td>10</td>\n",
              "      <td>9.5</td>\n",
              "      <td>5</td>\n",
              "      <td>8.5</td>\n",
              "      <td>8.2</td>\n",
              "      <td>8.05</td>\n",
              "    </tr>\n",
              "    <tr>\n",
              "      <th>...</th>\n",
              "      <td>...</td>\n",
              "      <td>...</td>\n",
              "      <td>...</td>\n",
              "      <td>...</td>\n",
              "      <td>...</td>\n",
              "      <td>...</td>\n",
              "      <td>...</td>\n",
              "    </tr>\n",
              "    <tr>\n",
              "      <th>970</th>\n",
              "      <td>1857</td>\n",
              "      <td>5</td>\n",
              "      <td>4.5</td>\n",
              "      <td>10</td>\n",
              "      <td>4</td>\n",
              "      <td>6</td>\n",
              "      <td>6.03</td>\n",
              "    </tr>\n",
              "    <tr>\n",
              "      <th>971</th>\n",
              "      <td>1859</td>\n",
              "      <td>8</td>\n",
              "      <td>5</td>\n",
              "      <td>10</td>\n",
              "      <td>1.5</td>\n",
              "      <td>5.4</td>\n",
              "      <td>5.06</td>\n",
              "    </tr>\n",
              "    <tr>\n",
              "      <th>972</th>\n",
              "      <td>1862</td>\n",
              "      <td>5</td>\n",
              "      <td>6.5</td>\n",
              "      <td>1</td>\n",
              "      <td>7.5</td>\n",
              "      <td>5.1</td>\n",
              "      <td>4.71</td>\n",
              "    </tr>\n",
              "    <tr>\n",
              "      <th>973</th>\n",
              "      <td>1865</td>\n",
              "      <td>6.5</td>\n",
              "      <td></td>\n",
              "      <td>3</td>\n",
              "      <td>7.5</td>\n",
              "      <td></td>\n",
              "      <td>6.89</td>\n",
              "    </tr>\n",
              "    <tr>\n",
              "      <th>974</th>\n",
              "      <td>1866</td>\n",
              "      <td>9</td>\n",
              "      <td>7.5</td>\n",
              "      <td>2</td>\n",
              "      <td>5</td>\n",
              "      <td>5</td>\n",
              "      <td>7.05</td>\n",
              "    </tr>\n",
              "  </tbody>\n",
              "</table>\n",
              "<p>975 rows × 7 columns</p>\n",
              "</div>"
            ],
            "text/plain": [
              "       id   QT   GK   TH   CK  TBM  TBTL\n",
              "0      22   10    9  8.5  8.5  8.8  8.52\n",
              "1      24   10    8   10  9.5  9.4  8.41\n",
              "2      27   10   10   10   10   10  8.67\n",
              "3      28   10  9.5  7.5  9.5  9.2  7.39\n",
              "4      29   10  9.5    5  8.5  8.2  8.05\n",
              "..    ...  ...  ...  ...  ...  ...   ...\n",
              "970  1857    5  4.5   10    4    6  6.03\n",
              "971  1859    8    5   10  1.5  5.4  5.06\n",
              "972  1862    5  6.5    1  7.5  5.1  4.71\n",
              "973  1865  6.5         3  7.5       6.89\n",
              "974  1866    9  7.5    2    5    5  7.05\n",
              "\n",
              "[975 rows x 7 columns]"
            ]
          },
          "metadata": {
            "tags": []
          },
          "execution_count": 171
        }
      ]
    },
    {
      "cell_type": "markdown",
      "metadata": {
        "id": "5RXCi6_6yQL7"
      },
      "source": [
        "**Xử lý với tập Score training**"
      ]
    },
    {
      "cell_type": "code",
      "metadata": {
        "id": "js6WDhI_SFDu",
        "colab": {
          "base_uri": "https://localhost:8080/",
          "height": 419
        },
        "outputId": "6f3a9033-050b-4c9a-d47d-f87a91782c36"
      },
      "source": [
        "#Lấy những feature cần thiết \n",
        "\n",
        "#wecode1['user_id'] = pd.DataFrame(score['id'])\n",
        "#wecode1.drop('id', axis='columns', inplace=True)\n",
        "\n",
        "score = score.rename(columns={'id': 'user_id'})\n",
        "mark = score[['user_id', 'TH', 'QT', 'GK']]\n",
        "\n",
        "wecode1['Final_Score'] = pd.DataFrame(score['CK'])\n",
        "wecode1 = pd.merge(wecode1, mark, on='user_id', how=\"outer\")\n",
        "\n",
        "wecode1"
      ],
      "execution_count": 178,
      "outputs": [
        {
          "output_type": "execute_result",
          "data": {
            "text/html": [
              "<div>\n",
              "<style scoped>\n",
              "    .dataframe tbody tr th:only-of-type {\n",
              "        vertical-align: middle;\n",
              "    }\n",
              "\n",
              "    .dataframe tbody tr th {\n",
              "        vertical-align: top;\n",
              "    }\n",
              "\n",
              "    .dataframe thead th {\n",
              "        text-align: right;\n",
              "    }\n",
              "</style>\n",
              "<table border=\"1\" class=\"dataframe\">\n",
              "  <thead>\n",
              "    <tr style=\"text-align: right;\">\n",
              "      <th></th>\n",
              "      <th>Final_Score</th>\n",
              "      <th>user_id</th>\n",
              "      <th>TH</th>\n",
              "      <th>QT</th>\n",
              "      <th>GK</th>\n",
              "    </tr>\n",
              "  </thead>\n",
              "  <tbody>\n",
              "    <tr>\n",
              "      <th>0</th>\n",
              "      <td>8.5</td>\n",
              "      <td>22</td>\n",
              "      <td>8.5</td>\n",
              "      <td>10</td>\n",
              "      <td>9</td>\n",
              "    </tr>\n",
              "    <tr>\n",
              "      <th>1</th>\n",
              "      <td>9.5</td>\n",
              "      <td>24</td>\n",
              "      <td>10</td>\n",
              "      <td>10</td>\n",
              "      <td>8</td>\n",
              "    </tr>\n",
              "    <tr>\n",
              "      <th>2</th>\n",
              "      <td>10</td>\n",
              "      <td>27</td>\n",
              "      <td>10</td>\n",
              "      <td>10</td>\n",
              "      <td>10</td>\n",
              "    </tr>\n",
              "    <tr>\n",
              "      <th>3</th>\n",
              "      <td>9.5</td>\n",
              "      <td>28</td>\n",
              "      <td>7.5</td>\n",
              "      <td>10</td>\n",
              "      <td>9.5</td>\n",
              "    </tr>\n",
              "    <tr>\n",
              "      <th>4</th>\n",
              "      <td>8.5</td>\n",
              "      <td>29</td>\n",
              "      <td>5</td>\n",
              "      <td>10</td>\n",
              "      <td>9.5</td>\n",
              "    </tr>\n",
              "    <tr>\n",
              "      <th>...</th>\n",
              "      <td>...</td>\n",
              "      <td>...</td>\n",
              "      <td>...</td>\n",
              "      <td>...</td>\n",
              "      <td>...</td>\n",
              "    </tr>\n",
              "    <tr>\n",
              "      <th>970</th>\n",
              "      <td>4</td>\n",
              "      <td>1857</td>\n",
              "      <td>10</td>\n",
              "      <td>5</td>\n",
              "      <td>4.5</td>\n",
              "    </tr>\n",
              "    <tr>\n",
              "      <th>971</th>\n",
              "      <td>1.5</td>\n",
              "      <td>1859</td>\n",
              "      <td>10</td>\n",
              "      <td>8</td>\n",
              "      <td>5</td>\n",
              "    </tr>\n",
              "    <tr>\n",
              "      <th>972</th>\n",
              "      <td>7.5</td>\n",
              "      <td>1862</td>\n",
              "      <td>1</td>\n",
              "      <td>5</td>\n",
              "      <td>6.5</td>\n",
              "    </tr>\n",
              "    <tr>\n",
              "      <th>973</th>\n",
              "      <td>7.5</td>\n",
              "      <td>1865</td>\n",
              "      <td>3</td>\n",
              "      <td>6.5</td>\n",
              "      <td></td>\n",
              "    </tr>\n",
              "    <tr>\n",
              "      <th>974</th>\n",
              "      <td>5</td>\n",
              "      <td>1866</td>\n",
              "      <td>2</td>\n",
              "      <td>9</td>\n",
              "      <td>7.5</td>\n",
              "    </tr>\n",
              "  </tbody>\n",
              "</table>\n",
              "<p>975 rows × 5 columns</p>\n",
              "</div>"
            ],
            "text/plain": [
              "    Final_Score  user_id   TH   QT   GK\n",
              "0           8.5       22  8.5   10    9\n",
              "1           9.5       24   10   10    8\n",
              "2            10       27   10   10   10\n",
              "3           9.5       28  7.5   10  9.5\n",
              "4           8.5       29    5   10  9.5\n",
              "..          ...      ...  ...  ...  ...\n",
              "970           4     1857   10    5  4.5\n",
              "971         1.5     1859   10    8    5\n",
              "972         7.5     1862    1    5  6.5\n",
              "973         7.5     1865    3  6.5     \n",
              "974           5     1866    2    9  7.5\n",
              "\n",
              "[975 rows x 5 columns]"
            ]
          },
          "metadata": {
            "tags": []
          },
          "execution_count": 178
        }
      ]
    },
    {
      "cell_type": "markdown",
      "metadata": {
        "id": "L4smnl4eyU10"
      },
      "source": [
        "**Xử lý với tập Wecode**"
      ]
    },
    {
      "cell_type": "code",
      "metadata": {
        "id": "T8w5-GhRkYmS",
        "colab": {
          "base_uri": "https://localhost:8080/",
          "height": 450
        },
        "outputId": "ec32f9f0-7e3e-41f1-8f45-8e0e386e5abc"
      },
      "source": [
        "#Lấy các feature cần thiết để vẽ scatter plot\n",
        "\n",
        "\n",
        "res = pd.DataFrame(wecode['user_id'])\n",
        "# Thêm cột số lần submit\n",
        "res.insert(1, 'Sum_Submissions', 1)\n",
        "\n",
        "#Thêm cột is_final\n",
        "res['Sum_Prob'] = pd.DataFrame(wecode['is_final'])\n",
        "\n",
        "# Thêm cột problem solved\n",
        "res['Sum_Problems_solved'] = pd.DataFrame(map(int, (wecode['pre_score'] == 10000) & (wecode['is_final'] == 1)))\n",
        "\n",
        "#Thêm cột correct submit\n",
        "res['Sum_Correct_Submit'] = pd.DataFrame(map(int, (wecode['pre_score'] == 10000)))\n",
        "\n",
        "#Thêm cột pre_score của các submission có is_final = 1 \n",
        "res['Last_Score'] = wecode.loc[wecode['is_final'] == 1, ['pre_score']]\n",
        "\n",
        "\n",
        "#Sum \n",
        "res = res.groupby(['user_id']).sum()\n",
        "res"
      ],
      "execution_count": 179,
      "outputs": [
        {
          "output_type": "execute_result",
          "data": {
            "text/html": [
              "<div>\n",
              "<style scoped>\n",
              "    .dataframe tbody tr th:only-of-type {\n",
              "        vertical-align: middle;\n",
              "    }\n",
              "\n",
              "    .dataframe tbody tr th {\n",
              "        vertical-align: top;\n",
              "    }\n",
              "\n",
              "    .dataframe thead th {\n",
              "        text-align: right;\n",
              "    }\n",
              "</style>\n",
              "<table border=\"1\" class=\"dataframe\">\n",
              "  <thead>\n",
              "    <tr style=\"text-align: right;\">\n",
              "      <th></th>\n",
              "      <th>Sum_Submissions</th>\n",
              "      <th>Sum_Prob</th>\n",
              "      <th>Sum_Problems_solved</th>\n",
              "      <th>Sum_Correct_Submit</th>\n",
              "      <th>Last_Score</th>\n",
              "    </tr>\n",
              "    <tr>\n",
              "      <th>user_id</th>\n",
              "      <th></th>\n",
              "      <th></th>\n",
              "      <th></th>\n",
              "      <th></th>\n",
              "      <th></th>\n",
              "    </tr>\n",
              "  </thead>\n",
              "  <tbody>\n",
              "    <tr>\n",
              "      <th>1</th>\n",
              "      <td>2</td>\n",
              "      <td>2</td>\n",
              "      <td>1</td>\n",
              "      <td>1</td>\n",
              "      <td>10000.0</td>\n",
              "    </tr>\n",
              "    <tr>\n",
              "      <th>4</th>\n",
              "      <td>54</td>\n",
              "      <td>38</td>\n",
              "      <td>37</td>\n",
              "      <td>44</td>\n",
              "      <td>370000.0</td>\n",
              "    </tr>\n",
              "    <tr>\n",
              "      <th>5</th>\n",
              "      <td>6</td>\n",
              "      <td>5</td>\n",
              "      <td>3</td>\n",
              "      <td>3</td>\n",
              "      <td>30000.0</td>\n",
              "    </tr>\n",
              "    <tr>\n",
              "      <th>6</th>\n",
              "      <td>130</td>\n",
              "      <td>88</td>\n",
              "      <td>85</td>\n",
              "      <td>89</td>\n",
              "      <td>850000.0</td>\n",
              "    </tr>\n",
              "    <tr>\n",
              "      <th>7</th>\n",
              "      <td>5</td>\n",
              "      <td>2</td>\n",
              "      <td>0</td>\n",
              "      <td>0</td>\n",
              "      <td>9209.0</td>\n",
              "    </tr>\n",
              "    <tr>\n",
              "      <th>...</th>\n",
              "      <td>...</td>\n",
              "      <td>...</td>\n",
              "      <td>...</td>\n",
              "      <td>...</td>\n",
              "      <td>...</td>\n",
              "    </tr>\n",
              "    <tr>\n",
              "      <th>1860</th>\n",
              "      <td>76</td>\n",
              "      <td>48</td>\n",
              "      <td>28</td>\n",
              "      <td>29</td>\n",
              "      <td>329665.0</td>\n",
              "    </tr>\n",
              "    <tr>\n",
              "      <th>1862</th>\n",
              "      <td>12</td>\n",
              "      <td>6</td>\n",
              "      <td>4</td>\n",
              "      <td>4</td>\n",
              "      <td>40000.0</td>\n",
              "    </tr>\n",
              "    <tr>\n",
              "      <th>1864</th>\n",
              "      <td>187</td>\n",
              "      <td>63</td>\n",
              "      <td>28</td>\n",
              "      <td>30</td>\n",
              "      <td>439741.0</td>\n",
              "    </tr>\n",
              "    <tr>\n",
              "      <th>1865</th>\n",
              "      <td>99</td>\n",
              "      <td>17</td>\n",
              "      <td>10</td>\n",
              "      <td>10</td>\n",
              "      <td>116428.0</td>\n",
              "    </tr>\n",
              "    <tr>\n",
              "      <th>1868</th>\n",
              "      <td>47</td>\n",
              "      <td>27</td>\n",
              "      <td>27</td>\n",
              "      <td>38</td>\n",
              "      <td>270000.0</td>\n",
              "    </tr>\n",
              "  </tbody>\n",
              "</table>\n",
              "<p>1159 rows × 5 columns</p>\n",
              "</div>"
            ],
            "text/plain": [
              "         Sum_Submissions  Sum_Prob  ...  Sum_Correct_Submit  Last_Score\n",
              "user_id                             ...                                \n",
              "1                      2         2  ...                   1     10000.0\n",
              "4                     54        38  ...                  44    370000.0\n",
              "5                      6         5  ...                   3     30000.0\n",
              "6                    130        88  ...                  89    850000.0\n",
              "7                      5         2  ...                   0      9209.0\n",
              "...                  ...       ...  ...                 ...         ...\n",
              "1860                  76        48  ...                  29    329665.0\n",
              "1862                  12         6  ...                   4     40000.0\n",
              "1864                 187        63  ...                  30    439741.0\n",
              "1865                  99        17  ...                  10    116428.0\n",
              "1868                  47        27  ...                  38    270000.0\n",
              "\n",
              "[1159 rows x 5 columns]"
            ]
          },
          "metadata": {
            "tags": []
          },
          "execution_count": 179
        }
      ]
    },
    {
      "cell_type": "code",
      "metadata": {
        "colab": {
          "base_uri": "https://localhost:8080/",
          "height": 450
        },
        "id": "TpZFQxxKzNq2",
        "outputId": "8983f4b4-b8d6-4ecd-a507-0ba6a192f744"
      },
      "source": [
        "#Thêm những cột cần thiết để tính train \n",
        "\n",
        "#Tỉ lệ số lần nộp để hoàn thành 1 problem\n",
        "res['Submissions/SolvedProb'] = res['Sum_Submissions'] / res['Sum_Problems_solved']\n",
        "\n",
        "#Tỉ lệ % hoàn thành 1 problem\n",
        "res['SolvedProb/Submissions'] = res['Sum_Problems_solved'] / res['Sum_Submissions']\n",
        "\n",
        "#res = res.drop(['Solved/Submissions', 'Correct/Submissions'], axis=1)\n",
        "\n",
        "res"
      ],
      "execution_count": 180,
      "outputs": [
        {
          "output_type": "execute_result",
          "data": {
            "text/html": [
              "<div>\n",
              "<style scoped>\n",
              "    .dataframe tbody tr th:only-of-type {\n",
              "        vertical-align: middle;\n",
              "    }\n",
              "\n",
              "    .dataframe tbody tr th {\n",
              "        vertical-align: top;\n",
              "    }\n",
              "\n",
              "    .dataframe thead th {\n",
              "        text-align: right;\n",
              "    }\n",
              "</style>\n",
              "<table border=\"1\" class=\"dataframe\">\n",
              "  <thead>\n",
              "    <tr style=\"text-align: right;\">\n",
              "      <th></th>\n",
              "      <th>Sum_Submissions</th>\n",
              "      <th>Sum_Prob</th>\n",
              "      <th>Sum_Problems_solved</th>\n",
              "      <th>Sum_Correct_Submit</th>\n",
              "      <th>Last_Score</th>\n",
              "      <th>Submissions/SolvedProb</th>\n",
              "      <th>SolvedProb/Submissions</th>\n",
              "    </tr>\n",
              "    <tr>\n",
              "      <th>user_id</th>\n",
              "      <th></th>\n",
              "      <th></th>\n",
              "      <th></th>\n",
              "      <th></th>\n",
              "      <th></th>\n",
              "      <th></th>\n",
              "      <th></th>\n",
              "    </tr>\n",
              "  </thead>\n",
              "  <tbody>\n",
              "    <tr>\n",
              "      <th>1</th>\n",
              "      <td>2</td>\n",
              "      <td>2</td>\n",
              "      <td>1</td>\n",
              "      <td>1</td>\n",
              "      <td>10000.0</td>\n",
              "      <td>2.000000</td>\n",
              "      <td>0.500000</td>\n",
              "    </tr>\n",
              "    <tr>\n",
              "      <th>4</th>\n",
              "      <td>54</td>\n",
              "      <td>38</td>\n",
              "      <td>37</td>\n",
              "      <td>44</td>\n",
              "      <td>370000.0</td>\n",
              "      <td>1.459459</td>\n",
              "      <td>0.685185</td>\n",
              "    </tr>\n",
              "    <tr>\n",
              "      <th>5</th>\n",
              "      <td>6</td>\n",
              "      <td>5</td>\n",
              "      <td>3</td>\n",
              "      <td>3</td>\n",
              "      <td>30000.0</td>\n",
              "      <td>2.000000</td>\n",
              "      <td>0.500000</td>\n",
              "    </tr>\n",
              "    <tr>\n",
              "      <th>6</th>\n",
              "      <td>130</td>\n",
              "      <td>88</td>\n",
              "      <td>85</td>\n",
              "      <td>89</td>\n",
              "      <td>850000.0</td>\n",
              "      <td>1.529412</td>\n",
              "      <td>0.653846</td>\n",
              "    </tr>\n",
              "    <tr>\n",
              "      <th>7</th>\n",
              "      <td>5</td>\n",
              "      <td>2</td>\n",
              "      <td>0</td>\n",
              "      <td>0</td>\n",
              "      <td>9209.0</td>\n",
              "      <td>inf</td>\n",
              "      <td>0.000000</td>\n",
              "    </tr>\n",
              "    <tr>\n",
              "      <th>...</th>\n",
              "      <td>...</td>\n",
              "      <td>...</td>\n",
              "      <td>...</td>\n",
              "      <td>...</td>\n",
              "      <td>...</td>\n",
              "      <td>...</td>\n",
              "      <td>...</td>\n",
              "    </tr>\n",
              "    <tr>\n",
              "      <th>1860</th>\n",
              "      <td>76</td>\n",
              "      <td>48</td>\n",
              "      <td>28</td>\n",
              "      <td>29</td>\n",
              "      <td>329665.0</td>\n",
              "      <td>2.714286</td>\n",
              "      <td>0.368421</td>\n",
              "    </tr>\n",
              "    <tr>\n",
              "      <th>1862</th>\n",
              "      <td>12</td>\n",
              "      <td>6</td>\n",
              "      <td>4</td>\n",
              "      <td>4</td>\n",
              "      <td>40000.0</td>\n",
              "      <td>3.000000</td>\n",
              "      <td>0.333333</td>\n",
              "    </tr>\n",
              "    <tr>\n",
              "      <th>1864</th>\n",
              "      <td>187</td>\n",
              "      <td>63</td>\n",
              "      <td>28</td>\n",
              "      <td>30</td>\n",
              "      <td>439741.0</td>\n",
              "      <td>6.678571</td>\n",
              "      <td>0.149733</td>\n",
              "    </tr>\n",
              "    <tr>\n",
              "      <th>1865</th>\n",
              "      <td>99</td>\n",
              "      <td>17</td>\n",
              "      <td>10</td>\n",
              "      <td>10</td>\n",
              "      <td>116428.0</td>\n",
              "      <td>9.900000</td>\n",
              "      <td>0.101010</td>\n",
              "    </tr>\n",
              "    <tr>\n",
              "      <th>1868</th>\n",
              "      <td>47</td>\n",
              "      <td>27</td>\n",
              "      <td>27</td>\n",
              "      <td>38</td>\n",
              "      <td>270000.0</td>\n",
              "      <td>1.740741</td>\n",
              "      <td>0.574468</td>\n",
              "    </tr>\n",
              "  </tbody>\n",
              "</table>\n",
              "<p>1159 rows × 7 columns</p>\n",
              "</div>"
            ],
            "text/plain": [
              "         Sum_Submissions  ...  SolvedProb/Submissions\n",
              "user_id                   ...                        \n",
              "1                      2  ...                0.500000\n",
              "4                     54  ...                0.685185\n",
              "5                      6  ...                0.500000\n",
              "6                    130  ...                0.653846\n",
              "7                      5  ...                0.000000\n",
              "...                  ...  ...                     ...\n",
              "1860                  76  ...                0.368421\n",
              "1862                  12  ...                0.333333\n",
              "1864                 187  ...                0.149733\n",
              "1865                  99  ...                0.101010\n",
              "1868                  47  ...                0.574468\n",
              "\n",
              "[1159 rows x 7 columns]"
            ]
          },
          "metadata": {
            "tags": []
          },
          "execution_count": 180
        }
      ]
    },
    {
      "cell_type": "markdown",
      "metadata": {
        "id": "xQ76ST9a6fKD"
      },
      "source": [
        "**Merge Feature**"
      ]
    },
    {
      "cell_type": "code",
      "metadata": {
        "colab": {
          "base_uri": "https://localhost:8080/",
          "height": 439
        },
        "id": "xxwAb2ag6MCH",
        "outputId": "22a3759d-df51-4008-d106-2126c5d1bc53"
      },
      "source": [
        "final = pd.merge(res, wecode1, on='user_id', how=\"inner\")\n",
        "\n",
        "#Chuyển đổi kiểu dữ liệu trong final thành số\n",
        "final = final.apply(pd.to_numeric,  errors='coerce')\n",
        "\n",
        "#Loại bỏ giá trị vô cực và NaN\n",
        "final.replace([np.inf, -np.inf], np.nan, inplace=True)\n",
        "final = final.dropna()\n",
        "final\n"
      ],
      "execution_count": 195,
      "outputs": [
        {
          "output_type": "execute_result",
          "data": {
            "text/html": [
              "<div>\n",
              "<style scoped>\n",
              "    .dataframe tbody tr th:only-of-type {\n",
              "        vertical-align: middle;\n",
              "    }\n",
              "\n",
              "    .dataframe tbody tr th {\n",
              "        vertical-align: top;\n",
              "    }\n",
              "\n",
              "    .dataframe thead th {\n",
              "        text-align: right;\n",
              "    }\n",
              "</style>\n",
              "<table border=\"1\" class=\"dataframe\">\n",
              "  <thead>\n",
              "    <tr style=\"text-align: right;\">\n",
              "      <th></th>\n",
              "      <th>user_id</th>\n",
              "      <th>Sum_Submissions</th>\n",
              "      <th>Sum_Prob</th>\n",
              "      <th>Sum_Problems_solved</th>\n",
              "      <th>Sum_Correct_Submit</th>\n",
              "      <th>Last_Score</th>\n",
              "      <th>Submissions/SolvedProb</th>\n",
              "      <th>SolvedProb/Submissions</th>\n",
              "      <th>Final_Score</th>\n",
              "      <th>TH</th>\n",
              "      <th>QT</th>\n",
              "      <th>GK</th>\n",
              "    </tr>\n",
              "  </thead>\n",
              "  <tbody>\n",
              "    <tr>\n",
              "      <th>0</th>\n",
              "      <td>24</td>\n",
              "      <td>164</td>\n",
              "      <td>77</td>\n",
              "      <td>72</td>\n",
              "      <td>80</td>\n",
              "      <td>750299.0</td>\n",
              "      <td>2.277778</td>\n",
              "      <td>0.439024</td>\n",
              "      <td>9.5</td>\n",
              "      <td>10.0</td>\n",
              "      <td>10.0</td>\n",
              "      <td>8.0</td>\n",
              "    </tr>\n",
              "    <tr>\n",
              "      <th>1</th>\n",
              "      <td>27</td>\n",
              "      <td>13</td>\n",
              "      <td>5</td>\n",
              "      <td>3</td>\n",
              "      <td>4</td>\n",
              "      <td>39000.0</td>\n",
              "      <td>4.333333</td>\n",
              "      <td>0.230769</td>\n",
              "      <td>10.0</td>\n",
              "      <td>10.0</td>\n",
              "      <td>10.0</td>\n",
              "      <td>10.0</td>\n",
              "    </tr>\n",
              "    <tr>\n",
              "      <th>2</th>\n",
              "      <td>29</td>\n",
              "      <td>199</td>\n",
              "      <td>80</td>\n",
              "      <td>72</td>\n",
              "      <td>75</td>\n",
              "      <td>762760.0</td>\n",
              "      <td>2.763889</td>\n",
              "      <td>0.361809</td>\n",
              "      <td>8.5</td>\n",
              "      <td>5.0</td>\n",
              "      <td>10.0</td>\n",
              "      <td>9.5</td>\n",
              "    </tr>\n",
              "    <tr>\n",
              "      <th>4</th>\n",
              "      <td>35</td>\n",
              "      <td>297</td>\n",
              "      <td>151</td>\n",
              "      <td>145</td>\n",
              "      <td>152</td>\n",
              "      <td>1477000.0</td>\n",
              "      <td>2.048276</td>\n",
              "      <td>0.488215</td>\n",
              "      <td>4.5</td>\n",
              "      <td>6.0</td>\n",
              "      <td>7.0</td>\n",
              "      <td>9.5</td>\n",
              "    </tr>\n",
              "    <tr>\n",
              "      <th>5</th>\n",
              "      <td>37</td>\n",
              "      <td>312</td>\n",
              "      <td>102</td>\n",
              "      <td>93</td>\n",
              "      <td>100</td>\n",
              "      <td>979712.0</td>\n",
              "      <td>3.354839</td>\n",
              "      <td>0.298077</td>\n",
              "      <td>7.5</td>\n",
              "      <td>7.5</td>\n",
              "      <td>5.5</td>\n",
              "      <td>5.5</td>\n",
              "    </tr>\n",
              "    <tr>\n",
              "      <th>...</th>\n",
              "      <td>...</td>\n",
              "      <td>...</td>\n",
              "      <td>...</td>\n",
              "      <td>...</td>\n",
              "      <td>...</td>\n",
              "      <td>...</td>\n",
              "      <td>...</td>\n",
              "      <td>...</td>\n",
              "      <td>...</td>\n",
              "      <td>...</td>\n",
              "      <td>...</td>\n",
              "      <td>...</td>\n",
              "    </tr>\n",
              "    <tr>\n",
              "      <th>847</th>\n",
              "      <td>1771</td>\n",
              "      <td>200</td>\n",
              "      <td>74</td>\n",
              "      <td>49</td>\n",
              "      <td>51</td>\n",
              "      <td>587271.0</td>\n",
              "      <td>4.081633</td>\n",
              "      <td>0.245000</td>\n",
              "      <td>5.5</td>\n",
              "      <td>4.0</td>\n",
              "      <td>0.0</td>\n",
              "      <td>5.0</td>\n",
              "    </tr>\n",
              "    <tr>\n",
              "      <th>848</th>\n",
              "      <td>1856</td>\n",
              "      <td>64</td>\n",
              "      <td>31</td>\n",
              "      <td>23</td>\n",
              "      <td>23</td>\n",
              "      <td>270790.0</td>\n",
              "      <td>2.782609</td>\n",
              "      <td>0.359375</td>\n",
              "      <td>7.5</td>\n",
              "      <td>7.0</td>\n",
              "      <td>5.0</td>\n",
              "      <td>5.5</td>\n",
              "    </tr>\n",
              "    <tr>\n",
              "      <th>849</th>\n",
              "      <td>1857</td>\n",
              "      <td>55</td>\n",
              "      <td>40</td>\n",
              "      <td>37</td>\n",
              "      <td>37</td>\n",
              "      <td>386000.0</td>\n",
              "      <td>1.486486</td>\n",
              "      <td>0.672727</td>\n",
              "      <td>4.0</td>\n",
              "      <td>10.0</td>\n",
              "      <td>5.0</td>\n",
              "      <td>4.5</td>\n",
              "    </tr>\n",
              "    <tr>\n",
              "      <th>850</th>\n",
              "      <td>1859</td>\n",
              "      <td>31</td>\n",
              "      <td>30</td>\n",
              "      <td>3</td>\n",
              "      <td>3</td>\n",
              "      <td>39000.0</td>\n",
              "      <td>10.333333</td>\n",
              "      <td>0.096774</td>\n",
              "      <td>1.5</td>\n",
              "      <td>10.0</td>\n",
              "      <td>8.0</td>\n",
              "      <td>5.0</td>\n",
              "    </tr>\n",
              "    <tr>\n",
              "      <th>851</th>\n",
              "      <td>1862</td>\n",
              "      <td>12</td>\n",
              "      <td>6</td>\n",
              "      <td>4</td>\n",
              "      <td>4</td>\n",
              "      <td>40000.0</td>\n",
              "      <td>3.000000</td>\n",
              "      <td>0.333333</td>\n",
              "      <td>7.5</td>\n",
              "      <td>1.0</td>\n",
              "      <td>5.0</td>\n",
              "      <td>6.5</td>\n",
              "    </tr>\n",
              "  </tbody>\n",
              "</table>\n",
              "<p>674 rows × 12 columns</p>\n",
              "</div>"
            ],
            "text/plain": [
              "     user_id  Sum_Submissions  Sum_Prob  ...    TH    QT    GK\n",
              "0         24              164        77  ...  10.0  10.0   8.0\n",
              "1         27               13         5  ...  10.0  10.0  10.0\n",
              "2         29              199        80  ...   5.0  10.0   9.5\n",
              "4         35              297       151  ...   6.0   7.0   9.5\n",
              "5         37              312       102  ...   7.5   5.5   5.5\n",
              "..       ...              ...       ...  ...   ...   ...   ...\n",
              "847     1771              200        74  ...   4.0   0.0   5.0\n",
              "848     1856               64        31  ...   7.0   5.0   5.5\n",
              "849     1857               55        40  ...  10.0   5.0   4.5\n",
              "850     1859               31        30  ...  10.0   8.0   5.0\n",
              "851     1862               12         6  ...   1.0   5.0   6.5\n",
              "\n",
              "[674 rows x 12 columns]"
            ]
          },
          "metadata": {
            "tags": []
          },
          "execution_count": 195
        }
      ]
    },
    {
      "cell_type": "markdown",
      "metadata": {
        "id": "06Iw_V0xH5nJ"
      },
      "source": [
        "# **Scatter Plot**"
      ]
    },
    {
      "cell_type": "code",
      "metadata": {
        "id": "C_Mg_Ir9H8CI"
      },
      "source": [
        "import seaborn as sns\n",
        "plott = final.copy()\n",
        "plott = plott.sort_values(by='Final_Score', ascending=False)"
      ],
      "execution_count": 203,
      "outputs": []
    },
    {
      "cell_type": "markdown",
      "metadata": {
        "id": "ryBDmImYix-a"
      },
      "source": [
        "**Tỉ lệ số lần nộp để hoàn thành 1 problem**"
      ]
    },
    {
      "cell_type": "code",
      "metadata": {
        "colab": {
          "base_uri": "https://localhost:8080/",
          "height": 296
        },
        "id": "-mAffmrEhMSE",
        "outputId": "d66eda07-6f8a-45bb-8f8b-a63903e5760d"
      },
      "source": [
        "\n",
        "sns.scatterplot(x=\"Submissions/SolvedProb\", y=\"Final_Score\", data=plott)"
      ],
      "execution_count": 209,
      "outputs": [
        {
          "output_type": "execute_result",
          "data": {
            "text/plain": [
              "<matplotlib.axes._subplots.AxesSubplot at 0x7f32cdf71d10>"
            ]
          },
          "metadata": {
            "tags": []
          },
          "execution_count": 209
        },
        {
          "output_type": "display_data",
          "data": {
            "image/png": "[encoded data removed]",
            "text/plain": [
              "<Figure size 432x288 with 1 Axes>"
            ]
          },
          "metadata": {
            "tags": [],
            "needs_background": "light"
          }
        }
      ]
    },
    {
      "cell_type": "markdown",
      "metadata": {
        "id": "HNZ6A2yyi9eZ"
      },
      "source": [
        "**Tỉ lệ % hoàn thành 1 problem**"
      ]
    },
    {
      "cell_type": "code",
      "metadata": {
        "colab": {
          "base_uri": "https://localhost:8080/",
          "height": 296
        },
        "id": "FIf7QveGi9Ca",
        "outputId": "ee728e61-2b0b-46db-de7b-18327d34c48b"
      },
      "source": [
        "sns.scatterplot(x=\"SolvedProb/Submissions\", y=\"Final_Score\", data=plott)"
      ],
      "execution_count": 210,
      "outputs": [
        {
          "output_type": "execute_result",
          "data": {
            "text/plain": [
              "<matplotlib.axes._subplots.AxesSubplot at 0x7f32cd0c1090>"
            ]
          },
          "metadata": {
            "tags": []
          },
          "execution_count": 210
        },
        {
          "output_type": "display_data",
          "data": {
            "image/png": "[encoded data removed]",
            "text/plain": [
              "<Figure size 432x288 with 1 Axes>"
            ]
          },
          "metadata": {
            "tags": [],
            "needs_background": "light"
          }
        }
      ]
    },
    {
      "cell_type": "markdown",
      "metadata": {
        "id": "DLJvb5Tljr3B"
      },
      "source": [
        "**Tổng số submit đúng**"
      ]
    },
    {
      "cell_type": "code",
      "metadata": {
        "colab": {
          "base_uri": "https://localhost:8080/",
          "height": 297
        },
        "id": "vdHMnQa_juEi",
        "outputId": "7f36acb2-c367-4b35-873b-df3a96d46126"
      },
      "source": [
        "sns.scatterplot(x=\"Sum_Correct_Submit\", y=\"Final_Score\", data=plott)"
      ],
      "execution_count": 211,
      "outputs": [
        {
          "output_type": "execute_result",
          "data": {
            "text/plain": [
              "<matplotlib.axes._subplots.AxesSubplot at 0x7f32cc650990>"
            ]
          },
          "metadata": {
            "tags": []
          },
          "execution_count": 211
        },
        {
          "output_type": "display_data",
          "data": {
            "image/png": "[encoded data removed]",
            "text/plain": [
              "<Figure size 432x288 with 1 Axes>"
            ]
          },
          "metadata": {
            "tags": [],
            "needs_background": "light"
          }
        }
      ]
    },
    {
      "cell_type": "markdown",
      "metadata": {
        "id": "YbTCFVLxj1AQ"
      },
      "source": [
        "**Tổng pre_score của các submission có is_final = 1**"
      ]
    },
    {
      "cell_type": "code",
      "metadata": {
        "colab": {
          "base_uri": "https://localhost:8080/",
          "height": 297
        },
        "id": "7_dPdGVVkZOa",
        "outputId": "8e4e4cb5-0086-48c0-a512-960881fb46b7"
      },
      "source": [
        "sns.scatterplot(x=\"Last_Score\", y=\"Final_Score\", data=plott)"
      ],
      "execution_count": 212,
      "outputs": [
        {
          "output_type": "execute_result",
          "data": {
            "text/plain": [
              "<matplotlib.axes._subplots.AxesSubplot at 0x7f32cdd69cd0>"
            ]
          },
          "metadata": {
            "tags": []
          },
          "execution_count": 212
        },
        {
          "output_type": "display_data",
          "data": {
            "image/png": "[encoded data removed]",
            "text/plain": [
              "<Figure size 432x288 with 1 Axes>"
            ]
          },
          "metadata": {
            "tags": [],
            "needs_background": "light"
          }
        }
      ]
    },
    {
      "cell_type": "markdown",
      "metadata": {
        "id": "y0ly_ckAkpFS"
      },
      "source": [
        "**Tổng submissions**"
      ]
    },
    {
      "cell_type": "code",
      "metadata": {
        "colab": {
          "base_uri": "https://localhost:8080/",
          "height": 297
        },
        "id": "IKENSUgflkDs",
        "outputId": "28de34fb-de15-406c-d93d-f93673fa23c8"
      },
      "source": [
        "sns.scatterplot(x=\"Sum_Submissions\", y=\"Final_Score\", data=plott)"
      ],
      "execution_count": 213,
      "outputs": [
        {
          "output_type": "execute_result",
          "data": {
            "text/plain": [
              "<matplotlib.axes._subplots.AxesSubplot at 0x7f32cc0e8a50>"
            ]
          },
          "metadata": {
            "tags": []
          },
          "execution_count": 213
        },
        {
          "output_type": "display_data",
          "data": {
            "image/png": "[encoded data removed]",
            "text/plain": [
              "<Figure size 432x288 with 1 Axes>"
            ]
          },
          "metadata": {
            "tags": [],
            "needs_background": "light"
          }
        }
      ]
    },
    {
      "cell_type": "markdown",
      "metadata": {
        "id": "j-871ggslvwi"
      },
      "source": [
        "**Tỉ lệ nộp bài đúng trên tổng số bài đã nộp**"
      ]
    },
    {
      "cell_type": "code",
      "metadata": {
        "colab": {
          "base_uri": "https://localhost:8080/",
          "height": 296
        },
        "id": "pO8SZ2KllyDB",
        "outputId": "91e2a24c-5a4b-4cb0-fc3b-285fcfe8e612"
      },
      "source": [
        "a = {}\n",
        "a['Correct/Problem'] = final['Sum_Problems_solved'] / final['Sum_Prob'] \n",
        "a['Final_Score'] = final['Final_Score']\n",
        "\n",
        "sns.scatterplot(x=\"Correct/Problem\", y=\"Final_Score\", data=a)"
      ],
      "execution_count": 214,
      "outputs": [
        {
          "output_type": "execute_result",
          "data": {
            "text/plain": [
              "<matplotlib.axes._subplots.AxesSubplot at 0x7f32cca8b550>"
            ]
          },
          "metadata": {
            "tags": []
          },
          "execution_count": 214
        },
        {
          "output_type": "display_data",
          "data": {
            "image/png": "[encoded data removed]",
            "text/plain": [
              "<Figure size 432x288 with 1 Axes>"
            ]
          },
          "metadata": {
            "tags": [],
            "needs_background": "light"
          }
        }
      ]
    },
    {
      "cell_type": "markdown",
      "metadata": {
        "id": "T1CZmZe1nR_B"
      },
      "source": [
        "# **TRAIN, TEST DATA**"
      ]
    },
    {
      "cell_type": "code",
      "metadata": {
        "colab": {
          "base_uri": "https://localhost:8080/"
        },
        "id": "q6QjSIgW633v",
        "outputId": "0acbfd96-b127-42c6-d15e-046ea367ac59"
      },
      "source": [
        "data_train = final.copy()\n",
        "CK = data_train['Final_Score']\n",
        "data_train.drop(columns=['Final_Score','user_id'],inplace = True)\n",
        "X_train, X_test, y_train, y_test = train_test_split(data_train, CK, train_size=0.8, random_state=10)\n",
        "X_train.info()"
      ],
      "execution_count": 244,
      "outputs": [
        {
          "output_type": "stream",
          "text": [
            "<class 'pandas.core.frame.DataFrame'>\n",
            "Int64Index: 539 entries, 122 to 347\n",
            "Data columns (total 10 columns):\n",
            " #   Column                  Non-Null Count  Dtype  \n",
            "---  ------                  --------------  -----  \n",
            " 0   Sum_Submissions         539 non-null    int64  \n",
            " 1   Sum_Prob                539 non-null    int64  \n",
            " 2   Sum_Problems_solved     539 non-null    int64  \n",
            " 3   Sum_Correct_Submit      539 non-null    int64  \n",
            " 4   Last_Score              539 non-null    float64\n",
            " 5   Submissions/SolvedProb  539 non-null    float64\n",
            " 6   SolvedProb/Submissions  539 non-null    float64\n",
            " 7   TH                      539 non-null    float64\n",
            " 8   QT                      539 non-null    float64\n",
            " 9   GK                      539 non-null    float64\n",
            "dtypes: float64(6), int64(4)\n",
            "memory usage: 46.3 KB\n"
          ],
          "name": "stdout"
        }
      ]
    },
    {
      "cell_type": "code",
      "metadata": {
        "colab": {
          "base_uri": "https://localhost:8080/"
        },
        "id": "CA2pgn8WdKBj",
        "outputId": "8c9e8397-6b0d-45ea-9c61-f690610ccb3d"
      },
      "source": [
        "y_train"
      ],
      "execution_count": 245,
      "outputs": [
        {
          "output_type": "execute_result",
          "data": {
            "text/plain": [
              "122    9.5\n",
              "568    6.5\n",
              "612    4.0\n",
              "84     6.5\n",
              "850    1.5\n",
              "      ... \n",
              "499    6.0\n",
              "437    8.0\n",
              "692    8.5\n",
              "155    4.5\n",
              "347    6.0\n",
              "Name: Final_Score, Length: 539, dtype: float64"
            ]
          },
          "metadata": {
            "tags": []
          },
          "execution_count": 245
        }
      ]
    },
    {
      "cell_type": "code",
      "metadata": {
        "colab": {
          "base_uri": "https://localhost:8080/"
        },
        "id": "fN76ranF9LHH",
        "outputId": "9f5a3021-a1b9-468a-f46b-f6a324c36de9"
      },
      "source": [
        "model = LinearRegression()\n",
        "model.fit(X_train, y_train)"
      ],
      "execution_count": 246,
      "outputs": [
        {
          "output_type": "execute_result",
          "data": {
            "text/plain": [
              "LinearRegression(copy_X=True, fit_intercept=True, n_jobs=None, normalize=False)"
            ]
          },
          "metadata": {
            "tags": []
          },
          "execution_count": 246
        }
      ]
    },
    {
      "cell_type": "code",
      "metadata": {
        "colab": {
          "base_uri": "https://localhost:8080/"
        },
        "id": "GRkXHHfi9TJz",
        "outputId": "78df7a71-4c83-4c4c-d855-4a580cc05d3a"
      },
      "source": [
        "y_pre = model.predict(X_test)\n",
        "mse = mean_squared_error(y_pre, y_test)\n",
        "\n",
        "print(f'MSE: {mse}')"
      ],
      "execution_count": 247,
      "outputs": [
        {
          "output_type": "stream",
          "text": [
            "MSE: 2.372635424674783\n"
          ],
          "name": "stdout"
        }
      ]
    },
    {
      "cell_type": "markdown",
      "metadata": {
        "id": "6rTi4DtJQMrH"
      },
      "source": [
        "**NHẬN XÉT**\n",
        "\n",
        "-Qua nhiều thử nghiệm với các feature khác nhau nhóm em chỉ có thể tối ưu hóa mse ở mức 2.46 \n",
        "\n",
        "-Dữ liệu sau khi lọc ra còn lại khá ít để chia train/test hợp lý\n"
      ]
    },
    {
      "cell_type": "code",
      "metadata": {
        "id": "dwZd44x5BG8j"
      },
      "source": [
        ""
      ],
      "execution_count": null,
      "outputs": []
    }
  ]
}