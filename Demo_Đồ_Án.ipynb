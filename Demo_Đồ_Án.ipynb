{
  "nbformat": 4,
  "nbformat_minor": 0,
  "metadata": {
    "colab": {
      "name": "Demo Đồ Án.ipynb",
      "provenance": [],
      "collapsed_sections": [],
      "include_colab_link": true
    },
    "kernelspec": {
      "name": "python3",
      "display_name": "Python 3"
    },
    "language_info": {
      "name": "python"
    }
  },
  "cells": [
    {
      "cell_type": "markdown",
      "metadata": {
        "id": "view-in-github",
        "colab_type": "text"
      },
      "source": [
        "<a href=\"https://colab.research.google.com/github/tuankiet110301/CS114.L22.KHCL/blob/main/Demo_%C4%90%E1%BB%93_%C3%81n.ipynb\" target=\"_parent\"><img src=\"https://colab.research.google.com/assets/colab-badge.svg\" alt=\"Open In Colab\"/></a>"
      ]
    },
    {
      "cell_type": "markdown",
      "metadata": {
        "id": "3jDX8C8Vbc5N"
      },
      "source": [
        "**ĐỀ TÀI: LỌC TIN BẠO LỰC TRÊN CÁC TRANG BÁO MẠNG TIẾNG VIỆT**\n",
        "\n",
        "**GIẢNG VIÊN:**\n",
        "1.   Lê Đình Duy\n",
        "2.   Phạm Nguyễn Trường An\n",
        "\n",
        "**THÀNH VIÊN:**\n",
        "\n",
        "1.   Từ Trương Tuấn Kiệt\n",
        "2.   Phạm Trung Hiếu\n",
        "3.   Võ Khoa Nam\n",
        "\n",
        "\n",
        "\n",
        "**1.   MÔ TẢ BÀI TOÁN:**\n",
        "\n",
        "*   Bối cảnh sử dụng: Trong thời đại người người đọc báo mạng vào mỗi buổi sáng trước khi đi làm, đi học thì việc họ đọc phải những bài báo mang tính bạo lực, chết chóc, tai nạn giao thông,... có thể làm mất đi tinh thần tích cực làm việc của họ. Dựa vào đó nhóm chúng em quyết định thực hiện đồ án này nhằm lọc những tin tức có tính chất bạo lực để cải thiện 1 phần đời sống tinh thần người đọc.\n",
        "\n",
        "\n",
        "*   Input: Link đường dẫn tới bài báo (đến đường dẫn trích lấy tiêu đề + nội dung)\n",
        "*   Output: bài báo có phải là tin bạo lực hay không (bạo lực nếu là những nội dung như đánh nhau, giết người, tai nạn giao thông,...)\n",
        "\n",
        "**2.   MÔ TẢ BỘ DỮ LIỆU:**\n",
        "*   Xây dựng bộ dữ liệu: cách thức xây dựng bộ dữ liệu: bộ dataset gồm 3 cột tiêu đề, nội dung và đường dẫn. Được lấy từ các nguồn trang báo mạng uy tín, tự xây dựng bộ data bằng tiếng Việt, không có sẵn.\n",
        "*   Data và độ đa dạng: do là dataset tự thu thập từ các trang báo mạng ví dụ như tuoitre.vn, thanhnien.vn,... Nên nhóm dự kiến sẽ thu thập data từ 1000-1200 mẫu.\n",
        "\n",
        "*   Xử lý dữ liệu: khi thu thập dataset xong sẽ tiến hành các bước xử lý ( loại bỏ dấu câu, khoảng trắng dư thừa, stopword,...). \n",
        "\n",
        "*   Train/Test: tiến hành chia tỷ lệ train/test là 80/20 do bộ dữ liệu không nhiều.\n",
        "\n",
        "*   Công cụ thực hiện: BeautifulSoup4 để tách các thẻ trên html ra tiêu đề và nội dung bài báo, thuật toán ML Logistic Regression, nltk\n",
        "\n",
        "\n",
        "\n",
        "\n",
        "\n",
        "\n",
        "\n",
        "\n",
        "\n",
        "\n",
        "\n",
        "\n",
        "\n",
        "\n",
        "\n"
      ]
    },
    {
      "cell_type": "markdown",
      "metadata": {
        "id": "NseLcTCi-nZA"
      },
      "source": [
        "![picture](https://drive.google.com/uc?export=view&id=1rg8J_ZWWFkgsXe2I7Jrfpd20yg8w181q)\n",
        "\n",
        "Ảnh minh họa"
      ]
    },
    {
      "cell_type": "code",
      "metadata": {
        "id": "chRU3Pzs_gDg"
      },
      "source": [
        ""
      ],
      "execution_count": null,
      "outputs": []
    }
  ]
}