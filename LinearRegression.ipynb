{
  "nbformat": 4,
  "nbformat_minor": 0,
  "metadata": {
    "colab": {
      "name": "Bai 1",
      "provenance": [],
      "collapsed_sections": [],
      "include_colab_link": true
    },
    "kernelspec": {
      "display_name": "Python 3",
      "name": "python3"
    }
  },
  "cells": [
    {
      "cell_type": "markdown",
      "metadata": {
        "id": "view-in-github",
        "colab_type": "text"
      },
      "source": [
        "<a href=\"https://colab.research.google.com/github/tuankiet110301/CS114.L22.KHCL/blob/main/LinearRegression.ipynb\" target=\"_parent\"><img src=\"https://colab.research.google.com/assets/colab-badge.svg\" alt=\"Open In Colab\"/></a>"
      ]
    },
    {
      "cell_type": "code",
      "metadata": {
        "id": "Eyzma8-zhtSq"
      },
      "source": [
        "import numpy as np\n",
        "import pandas as pd\n",
        "import matplotlib.pyplot as plt"
      ],
      "execution_count": null,
      "outputs": []
    },
    {
      "cell_type": "markdown",
      "metadata": {
        "id": "j4CraCLv_qrh"
      },
      "source": [
        "Lấy tập dữ liệu"
      ]
    },
    {
      "cell_type": "code",
      "metadata": {
        "id": "WxYP-mfsmDem"
      },
      "source": [
        "Data = ['Size', 'Time']\n",
        "Data_train = pd.read_csv(\"https://cs.uit.edu.vn/data2.txt\",names=Data)\n",
        "Data_test = pd.read_csv(\"https://cs.uit.edu.vn/data3.txt\",names=Data)"
      ],
      "execution_count": null,
      "outputs": []
    },
    {
      "cell_type": "code",
      "metadata": {
        "id": "CaKJK6udo2og"
      },
      "source": [
        "# Dữ liệu train\n",
        "X_train = np.array(Data_train['Size']).reshape(-1,1)\n",
        "y_train = np.array(Data_train['Time']).reshape(-1,1)\n",
        "\n",
        "# Dữ liệu test\n",
        "X_test = np.array(Data_test['Size']).reshape(-1, 1)\n",
        "y_test = np.array(Data_test['Time']).reshape(-1,1)\n"
      ],
      "execution_count": null,
      "outputs": []
    },
    {
      "cell_type": "markdown",
      "metadata": {
        "id": "1V0PomqD_vLs"
      },
      "source": [
        "Train bằng mô hình LinearRegression trong thư viện sklearn\n"
      ]
    },
    {
      "cell_type": "code",
      "metadata": {
        "id": "krOrfAC9pWHi",
        "colab": {
          "base_uri": "https://localhost:8080/"
        },
        "outputId": "81892e8f-5c38-41ad-af96-628f60a1f183"
      },
      "source": [
        "from sklearn.linear_model import LinearRegression\n",
        "lin_reg = LinearRegression()\n",
        "lin_reg.fit(X_train, y_train)"
      ],
      "execution_count": null,
      "outputs": [
        {
          "output_type": "execute_result",
          "data": {
            "text/plain": [
              "LinearRegression(copy_X=True, fit_intercept=True, n_jobs=None, normalize=False)"
            ]
          },
          "metadata": {
            "tags": []
          },
          "execution_count": 24
        }
      ]
    },
    {
      "cell_type": "markdown",
      "metadata": {
        "id": "oDeiLmU8_6sG"
      },
      "source": [
        "Tính Mean Square Error"
      ]
    },
    {
      "cell_type": "code",
      "metadata": {
        "id": "4nmDfTObp-h1",
        "colab": {
          "base_uri": "https://localhost:8080/"
        },
        "outputId": "2a5ebb0c-e1b6-4477-ee01-9eeb46a6abb1"
      },
      "source": [
        "from sklearn.metrics import mean_squared_error\n",
        "Data_pre = lin_reg.predict(X_test)\n",
        "lin_mse = mean_squared_error(y_test, Data_pre)\n",
        "lin_mse"
      ],
      "execution_count": null,
      "outputs": [
        {
          "output_type": "execute_result",
          "data": {
            "text/plain": [
              "0.020664949397549082"
            ]
          },
          "metadata": {
            "tags": []
          },
          "execution_count": 25
        }
      ]
    },
    {
      "cell_type": "code",
      "metadata": {
        "id": "UNB8Mp8NqAus",
        "colab": {
          "base_uri": "https://localhost:8080/",
          "height": 278
        },
        "outputId": "d3fa9672-b86c-4b74-a687-3dd872f77b2a"
      },
      "source": [
        "plt.plot(X_test, Data_pre, \"r-\")\n",
        "plt.plot(X_test, y_test, \"b.\")\n",
        "plt.show()"
      ],
      "execution_count": null,
      "outputs": [
        {
          "output_type": "display_data",
          "data": {
            "image/png": "[encoded data removed]",
            "text/plain": [
              "<Figure size 432x288 with 1 Axes>"
            ]
          },
          "metadata": {
            "tags": [],
            "needs_background": "light"
          }
        }
      ]
    },
    {
      "cell_type": "markdown",
      "metadata": {
        "id": "E4qx8P12APmT"
      },
      "source": [
        "Tính trung bình của y_test"
      ]
    },
    {
      "cell_type": "code",
      "metadata": {
        "colab": {
          "base_uri": "https://localhost:8080/"
        },
        "id": "z_Ixb9hzBNo_",
        "outputId": "bfbf4a84-363e-48d5-81f7-b393a259c3c3"
      },
      "source": [
        "print(np.average(y_test))"
      ],
      "execution_count": null,
      "outputs": [
        {
          "output_type": "stream",
          "text": [
            "2.642811968838527\n"
          ],
          "name": "stdout"
        }
      ]
    },
    {
      "cell_type": "markdown",
      "metadata": {
        "id": "oHaDazmPA2cL"
      },
      "source": [
        "Nhận Xét:\n",
        "\n",
        "Mean Square Error: 0.020664949397549082\n",
        "=> Độ Error = np.sqrt(MSE)/ np.average(y_test) = 0.054\n",
        "\n",
        "Theo vấn đề đặt ra của bài toán thì kết quả này chưa tốt vì khi đặt vào dữ liệu lớn độ Error sẽ tăng lên do đó là cần phương án để cải thiện MSE"
      ]
    },
    {
      "cell_type": "markdown",
      "metadata": {
        "id": "R8x11AOUCfko"
      },
      "source": [
        "Phương án: tăng số chiều của dữ liệu đầu vào"
      ]
    },
    {
      "cell_type": "markdown",
      "metadata": {
        "id": "b19wHvQq8A67"
      },
      "source": [
        "y = a*x + b* x^2 + c * lg(x) + d *x *lg(x) + e\n"
      ]
    },
    {
      "cell_type": "code",
      "metadata": {
        "id": "5JjfvUUP4rpD"
      },
      "source": [
        "X_train_2 = np.zeros((np.size(X_train),5))"
      ],
      "execution_count": null,
      "outputs": []
    },
    {
      "cell_type": "markdown",
      "metadata": {
        "id": "v3_u6Nn2CqCx"
      },
      "source": [
        "Thay đổi số chiều của tập train và tập test"
      ]
    },
    {
      "cell_type": "code",
      "metadata": {
        "id": "Q55clrmM4sFh"
      },
      "source": [
        "X_train_2[:,:1] = X_train\n",
        "X_train_2[:,1:2] = X_train**2\n",
        "X_train_2[:,2:3] = np.log(X_train)\n",
        "X_train_2[:,3:4] = X_train*np.log(X_train)"
      ],
      "execution_count": null,
      "outputs": []
    },
    {
      "cell_type": "code",
      "metadata": {
        "id": "XfS3XekU5KYG"
      },
      "source": [
        "X_test_2 = np.zeros((np.size(X_test),5))\n",
        "X_test_2[:,:1] = X_test\n",
        "X_test_2[:,1:2] = X_test**2\n",
        "X_test_2[:,2:3] = np.log(X_test)\n",
        "X_test_2[:,3:4] = X_test*np.log(X_test)"
      ],
      "execution_count": null,
      "outputs": []
    },
    {
      "cell_type": "code",
      "metadata": {
        "colab": {
          "base_uri": "https://localhost:8080/"
        },
        "id": "yyK5wZYn5Uj5",
        "outputId": "607216b1-6962-4ced-c042-3f4f6f22ccb7"
      },
      "source": [
        "lin_reg.fit(X_train_2, y_train)\n",
        "\n",
        "Data_pre = lin_reg.predict(X_test_2)\n",
        "lin_mse = mean_squared_error(y_test, Data_pre)\n",
        "lin_mse"
      ],
      "execution_count": null,
      "outputs": [
        {
          "output_type": "execute_result",
          "data": {
            "text/plain": [
              "0.004181195754199487"
            ]
          },
          "metadata": {
            "tags": []
          },
          "execution_count": 31
        }
      ]
    },
    {
      "cell_type": "markdown",
      "metadata": {
        "id": "r1AS1BV5Cwy2"
      },
      "source": [
        "Nhận xét:\n",
        "\n",
        "MSE đã nhỏ hơn => mô hình đã tốt hơn\n",
        "\n",
        "Kết luận:\n",
        "Trong bài toán LinearRegression ta có thể cải thiện mô hình bằng cách công thêm biểu thức vào phương trình gốc để tăng số chiều của tập train\n"
      ]
    }
  ]
}