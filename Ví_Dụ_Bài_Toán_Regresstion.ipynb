{
  "nbformat": 4,
  "nbformat_minor": 0,
  "metadata": {
    "colab": {
      "name": "Ví Dụ Bài Toán Regresstion.ipynb",
      "provenance": [],
      "collapsed_sections": [],
      "authorship_tag": "ABX9TyOAEmBtYx4rZBMmSYRK8bsx",
      "include_colab_link": true
    },
    "kernelspec": {
      "name": "python3",
      "display_name": "Python 3"
    },
    "language_info": {
      "name": "python"
    }
  },
  "cells": [
    {
      "cell_type": "markdown",
      "metadata": {
        "id": "view-in-github",
        "colab_type": "text"
      },
      "source": [
        "<a href=\"https://colab.research.google.com/github/tuankiet110301/CS114.L22.KHCL/blob/main/V%C3%AD_D%E1%BB%A5_B%C3%A0i_To%C3%A1n_Regresstion.ipynb\" target=\"_parent\"><img src=\"https://colab.research.google.com/assets/colab-badge.svg\" alt=\"Open In Colab\"/></a>"
      ]
    },
    {
      "cell_type": "markdown",
      "metadata": {
        "id": "tgJ3LZ3LDmeR"
      },
      "source": [
        "BÀI TẬP QUÁ TRÌNH\n",
        "\n",
        "LỚP CS114.L22.KHCL\n",
        "\n",
        "\n",
        "THÀNH VIÊN\n",
        "1. Từ Trương Tuấn Kiệt\n",
        "2. Phạm Trung Hiếu\n",
        "3. Võ Khoa Nam\n",
        "\n",
        "\n",
        "CÁC VÍ DỤ\n",
        "\n",
        "1. Dự đoán số doanh thu bán hàng của các cửa hàng tiện lợi\n",
        "\n",
        "*   Input: Tên món hàng(string), số lượng (int), giá món hàng (int)\n",
        "*   Output: Doanh thu bán hàng của căn tin (int)\n",
        "*   Thu thập dữ liệu:\n",
        "      \n",
        "      . Thu thập các hoá đơn bán hàng của các cửa hàng\n",
        "\n",
        "*   Xử lý data:\n",
        "\n",
        "      . Gom các dữ liệu vào trong cùng một file .csv\n",
        "\n",
        "      . Xử lý các dữ liệu lỗi (dữ liệu số âm, các dữ liệu không có giá trị)\n",
        "\n",
        "\n",
        "2. Dự đoán học sinh có thể tốt nghiệp THPT hay không\n",
        "\n",
        "*   Input: Số học sinh thi THPT quốc gia(int), Điểm số của các môn thành phần  (int), Điểm trung bình học kỳ (float)\n",
        "*   Output: Một con số (1 là qua, 0 là không qua)\n",
        "\n",
        "*   Thu thập dữ liệu:\n",
        "    \n",
        "    . Danh sách học sinh thi THPT quốc gia\n",
        "\n",
        "    . Điểm của các học sinh\n",
        "*   Xử lý data:\n",
        "\n",
        "    . Gom dữ liệu vào một file .csv\n",
        "\n",
        "    . Xử lý dữ liệu lỗi\n",
        "\n",
        "\n",
        "\n",
        "\n",
        "\n",
        "\n",
        "\n",
        "\n",
        "\n"
      ]
    },
    {
      "cell_type": "markdown",
      "metadata": {
        "id": "MAHGnH6qDYXw"
      },
      "source": [
        ""
      ]
    }
  ]
}